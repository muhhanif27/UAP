{
 "cells": [
  {
   "cell_type": "code",
   "execution_count": 2,
   "metadata": {},
   "outputs": [
    {
     "name": "stdout",
     "output_type": "stream",
     "text": [
      "21\n"
     ]
    }
   ],
   "source": [
    "from functools import reduce\n",
    "num = [1,2,3,4,5,6]\n",
    "\n",
    "def tambah(x,y):\n",
    "   return x + y\n",
    "\n",
    "hasil = reduce(tambah,num)\n",
    "print(hasil)"
   ]
  },
  {
   "cell_type": "code",
   "execution_count": 3,
   "metadata": {},
   "outputs": [
    {
     "name": "stdout",
     "output_type": "stream",
     "text": [
      "6\n"
     ]
    }
   ],
   "source": [
    "from functools import reduce\n",
    "num = [1,2,3,4,5,6]\n",
    "\n",
    "def maks(x,y):\n",
    "    return max(x,y)\n",
    "\n",
    "hasil = reduce(max,num)\n",
    "print(hasil)\n"
   ]
  },
  {
   "cell_type": "code",
   "execution_count": 5,
   "metadata": {},
   "outputs": [
    {
     "name": "stdout",
     "output_type": "stream",
     "text": [
      "[3]\n",
      "[1, 2, 3, 4, 5]\n"
     ]
    }
   ],
   "source": [
    "num = [1,2,3,4,5]\n",
    "\n",
    "def multi_3(x):\n",
    "    return [i for i in x if i % 3 == 0]\n",
    "\n",
    "hasil = multi_3(num)\n",
    "print(hasil)\n",
    "print(num)\n"
   ]
  },
  {
   "cell_type": "code",
   "execution_count": 13,
   "metadata": {},
   "outputs": [
    {
     "name": "stdout",
     "output_type": "stream",
     "text": [
      "[2, 4, 6, 8, 10]\n",
      "[4, 16, 36, 64, 100]\n"
     ]
    }
   ],
   "source": [
    "num = [1, 2, 3, 4, 5, 6, 7, 8, 9, 10]\n",
    "\n",
    "def genap(x):\n",
    "    return x % 2 == 0\n",
    "\n",
    "def kuadrat(x):\n",
    "    return x ** 2\n",
    "\n",
    "# Filter untuk bilangan genap\n",
    "hasil = filter(genap, num)\n",
    "hasil2 = map(kuadrat,filter(genap, num))\n",
    "\n",
    "# Konversi ke list untuk melihat hasilnya\n",
    "print(list(hasil))  # Output: [2, 4, 6, 8, 10]\n",
    "print(list(hasil2))\n"
   ]
  },
  {
   "cell_type": "code",
   "execution_count": 19,
   "metadata": {},
   "outputs": [
    {
     "name": "stdout",
     "output_type": "stream",
     "text": [
      "[75, 85, 90]\n",
      "Cukup Cukup baik Cukup baik Cukup "
     ]
    }
   ],
   "source": [
    "nilai = [60, 75, 85, 45, 90, 55]\n",
    "\n",
    "def lulus(x):\n",
    "    return x > 60\n",
    "\n",
    "def kategori(x):\n",
    "    if x > 80:\n",
    "        return \"baik\"\n",
    "    else:\n",
    "       return\"Cukup\"\n",
    "\n",
    "\n",
    "hasil_lulus = filter(lulus,nilai)\n",
    "print(list(hasil_lulus))\n",
    "\n",
    "hasil_kategori = map(kategori,nilai)\n",
    "for i in list(hasil_kategori):\n",
    "    print(i,end=\" \")\n"
   ]
  },
  {
   "cell_type": "code",
   "execution_count": 3,
   "metadata": {},
   "outputs": [
    {
     "data": {
      "text/plain": [
       "[2, 4, 6]"
      ]
     },
     "execution_count": 3,
     "metadata": {},
     "output_type": "execute_result"
    }
   ],
   "source": [
    "num = [1,2,3,4,5,6]\n",
    "hasil = list(filter(lambda x: x % 2 == 0,num))\n",
    "hasil"
   ]
  },
  {
   "cell_type": "code",
   "execution_count": 5,
   "metadata": {},
   "outputs": [
    {
     "data": {
      "text/plain": [
       "[4, 8, 12]"
      ]
     },
     "execution_count": 5,
     "metadata": {},
     "output_type": "execute_result"
    }
   ],
   "source": [
    "hasil_2 = list(map(lambda x: x * 2,hasil))\n",
    "hasil_2"
   ]
  },
  {
   "cell_type": "code",
   "execution_count": 6,
   "metadata": {},
   "outputs": [
    {
     "data": {
      "text/plain": [
       "'Alice, Bob, Charlie'"
      ]
     },
     "execution_count": 6,
     "metadata": {},
     "output_type": "execute_result"
    }
   ],
   "source": [
    "from functools import reduce\n",
    "\n",
    "names = ['Alice','Bob','Charlie']\n",
    "hasil = reduce(lambda x,y: x +', '+y,names)\n",
    "hasil"
   ]
  },
  {
   "cell_type": "code",
   "execution_count": 13,
   "metadata": {},
   "outputs": [
    {
     "name": "stdout",
     "output_type": "stream",
     "text": [
      "73.2\n"
     ]
    }
   ],
   "source": [
    "def avg_calc():\n",
    "    score = []\n",
    "\n",
    "    def add_score(new_score):\n",
    "        score.extend(new_score)\n",
    "        return sum(score) / len(score)\n",
    "    \n",
    "    return add_score\n",
    "\n",
    "student_avg = avg_calc()\n",
    "num = [80,90,75,65,56]\n",
    "print(student_avg(num))  # Tambahkan nilai 80, hasil: 80.0\n",
    " "
   ]
  },
  {
   "cell_type": "code",
   "execution_count": 14,
   "metadata": {},
   "outputs": [],
   "source": [
    "del avg_calc"
   ]
  },
  {
   "cell_type": "code",
   "execution_count": 18,
   "metadata": {},
   "outputs": [
    {
     "data": {
      "text/plain": [
       "73.2"
      ]
     },
     "execution_count": 18,
     "metadata": {},
     "output_type": "execute_result"
    }
   ],
   "source": [
    "student_avg(num)\n",
    "\n"
   ]
  },
  {
   "cell_type": "code",
   "execution_count": 20,
   "metadata": {},
   "outputs": [
    {
     "name": "stdout",
     "output_type": "stream",
     "text": [
      "8\n",
      "15\n"
     ]
    }
   ],
   "source": [
    "def penambah(awal):\n",
    "    def tambah(angka):\n",
    "        return awal + angka\n",
    "    return tambah\n",
    "\n",
    "# Penggunaan closure\n",
    "tambah_5 = penambah(5)\n",
    "print(tambah_5(3))  # Output: 8\n",
    "print(tambah_5(10))  # Output: 15\n"
   ]
  },
  {
   "cell_type": "code",
   "execution_count": 21,
   "metadata": {},
   "outputs": [],
   "source": [
    "del penambah"
   ]
  },
  {
   "cell_type": "code",
   "execution_count": 24,
   "metadata": {},
   "outputs": [
    {
     "data": {
      "text/plain": [
       "8"
      ]
     },
     "execution_count": 24,
     "metadata": {},
     "output_type": "execute_result"
    }
   ],
   "source": [
    "tambah_5(3)"
   ]
  },
  {
   "cell_type": "code",
   "execution_count": 28,
   "metadata": {},
   "outputs": [
    {
     "name": "stdout",
     "output_type": "stream",
     "text": [
      "4\n"
     ]
    }
   ],
   "source": [
    "def multi(x):\n",
    "    def kali(y):\n",
    "        return x * y\n",
    "    return kali\n",
    "\n",
    "hasil = multi(2)\n",
    "print(hasil(2))"
   ]
  },
  {
   "cell_type": "code",
   "execution_count": 33,
   "metadata": {},
   "outputs": [],
   "source": [
    "del multi"
   ]
  },
  {
   "cell_type": "code",
   "execution_count": 35,
   "metadata": {},
   "outputs": [
    {
     "name": "stdout",
     "output_type": "stream",
     "text": [
      "4\n"
     ]
    }
   ],
   "source": [
    "\n",
    "print(hasil(2))"
   ]
  }
 ],
 "metadata": {
  "kernelspec": {
   "display_name": ".venv",
   "language": "python",
   "name": "python3"
  },
  "language_info": {
   "codemirror_mode": {
    "name": "ipython",
    "version": 3
   },
   "file_extension": ".py",
   "mimetype": "text/x-python",
   "name": "python",
   "nbconvert_exporter": "python",
   "pygments_lexer": "ipython3",
   "version": "3.12.0"
  }
 },
 "nbformat": 4,
 "nbformat_minor": 2
}
